{
 "cells": [
  {
   "cell_type": "markdown",
   "metadata": {},
   "source": [
    "# Learn about models and do parameter estimation in a notebook #\n",
    "\n",
    "A `model` in pycbc inference represents the problem you are trying to solve. It contains the definition of the likelihood function you want to explore and details the parameters you are using. In this tutorial, we'll walk through using models with pycbc inference and see how to create your own. \n",
    "\n",
    "Note that it's best to go through this tutorial in order as some sections may rely on earlier ones. \n",
    "\n",
    "* [1. One-dimensional Analytic Model](#1.-One-dimensional-Analytic-Model)\n",
    "* [2. Higher Dimensions](#2.-Higher-Dimensions)\n",
    "* [3. Make your own simple model](#3.-Make-your-own-model)\n",
    "* [4. Model that uses data](#4.-Making-a-model-that-uses-data)\n",
    "* [5. Model with priors](#5.-Using-a-model-with-priors)\n",
    "* [6. Measure the distance to GW170817](#6.-Estimating-the-distance-of-GW170817)\n",
    "* [7. Estimate the sky location of GW170817](#7.-Estimating-the-sky-location-of-GW170817)\n",
    "* [8. Estimate the chirp mass of GW170817](#8.-Estimating-the-chirp-mass-of-GW170817)"
   ]
  },
  {
   "cell_type": "markdown",
   "metadata": {},
   "source": [
    "### Make sure the software is set up ###"
   ]
  },
  {
   "cell_type": "code",
   "execution_count": 1,
   "metadata": {
    "scrolled": true
   },
   "outputs": [
    {
     "name": "stdout",
     "output_type": "stream",
     "text": [
      "\u001b[33mDEPRECATION: Python 2.7 will reach the end of its life on January 1st, 2020. Please upgrade your Python as Python 2.7 won't be maintained after that date. A future version of pip will drop support for Python 2.7.\u001b[0m\n",
      "Requirement already satisfied: pycbc in /home/alexnitz/projects/env/lib/python2.7/site-packages/PyCBC-762de5-py2.7-linux-x86_64.egg (762de5)\n",
      "Requirement already satisfied: lalsuite in /home/alexnitz/projects/env/lib/python2.7/site-packages (6.54)\n",
      "Requirement already satisfied: ligo-common in /home/alexnitz/projects/env/lib/python2.7/site-packages (1.0.3)\n",
      "Requirement already satisfied: numpy<1.15.3,>=1.13.0 in /home/alexnitz/projects/env/lib/python2.7/site-packages (from pycbc) (1.15.2)\n",
      "Requirement already satisfied: Mako>=1.0.1 in /home/alexnitz/projects/env/lib/python2.7/site-packages (from pycbc) (1.0.10)\n",
      "Requirement already satisfied: cython in /home/alexnitz/projects/env/lib/python2.7/site-packages (from pycbc) (0.29.7)\n",
      "Requirement already satisfied: decorator>=3.4.2 in /home/alexnitz/projects/env/lib/python2.7/site-packages (from pycbc) (4.4.0)\n",
      "Requirement already satisfied: scipy>=0.16.0 in /home/alexnitz/projects/env/lib/python2.7/site-packages (from pycbc) (1.2.1)\n",
      "Requirement already satisfied: matplotlib>=1.5.1 in /home/alexnitz/projects/env/lib/python2.7/site-packages (from pycbc) (2.2.4)\n",
      "Requirement already satisfied: pillow in /home/alexnitz/projects/env/lib/python2.7/site-packages (from pycbc) (6.0.0)\n",
      "Requirement already satisfied: h5py>=2.5 in /home/alexnitz/projects/env/lib/python2.7/site-packages (from pycbc) (2.9.0)\n",
      "Requirement already satisfied: jinja2 in /home/alexnitz/projects/env/lib/python2.7/site-packages (from pycbc) (2.10.1)\n",
      "Requirement already satisfied: mpld3>=0.3 in /home/alexnitz/projects/env/lib/python2.7/site-packages (from pycbc) (0.3)\n",
      "Requirement already satisfied: lscsoft-glue>=1.59.3 in /home/alexnitz/projects/env/lib/python2.7/site-packages (from pycbc) (2.0.0)\n",
      "Requirement already satisfied: emcee==2.2.1 in /home/alexnitz/projects/env/lib/python2.7/site-packages (from pycbc) (2.2.1)\n",
      "Requirement already satisfied: requests>=1.2.1 in /home/alexnitz/projects/env/lib/python2.7/site-packages (from pycbc) (2.21.0)\n",
      "Requirement already satisfied: beautifulsoup4>=4.6.0 in /home/alexnitz/projects/env/lib/python2.7/site-packages (from pycbc) (4.7.1)\n",
      "Requirement already satisfied: six>=1.10.0 in /home/alexnitz/projects/env/lib/python2.7/site-packages (from pycbc) (1.12.0)\n",
      "Requirement already satisfied: ligo-segments in /home/alexnitz/projects/env/lib/python2.7/site-packages (from pycbc) (1.2.0)\n",
      "Requirement already satisfied: astropy<3.0.0,>=2.0.3 in /home/alexnitz/projects/env/lib/python2.7/site-packages (from pycbc) (2.0.12)\n",
      "Requirement already satisfied: weave>=0.16.0 in /home/alexnitz/projects/env/lib/python2.7/site-packages (from pycbc) (0.17.0)\n",
      "Requirement already satisfied: python-dateutil in /home/alexnitz/projects/env/lib/python2.7/site-packages (from lalsuite) (2.8.0)\n",
      "Requirement already satisfied: MarkupSafe>=0.9.2 in /home/alexnitz/projects/env/lib/python2.7/site-packages (from Mako>=1.0.1->pycbc) (1.0)\n",
      "Requirement already satisfied: cycler>=0.10 in /home/alexnitz/projects/env/lib/python2.7/site-packages (from matplotlib>=1.5.1->pycbc) (0.10.0)\n",
      "Requirement already satisfied: kiwisolver>=1.0.1 in /home/alexnitz/projects/env/lib/python2.7/site-packages (from matplotlib>=1.5.1->pycbc) (1.1.0)\n",
      "Requirement already satisfied: pytz in /home/alexnitz/projects/env/lib/python2.7/site-packages (from matplotlib>=1.5.1->pycbc) (2019.1)\n",
      "Requirement already satisfied: subprocess32 in /home/alexnitz/projects/env/lib/python2.7/site-packages (from matplotlib>=1.5.1->pycbc) (3.5.3)\n",
      "Requirement already satisfied: backports.functools-lru-cache in /home/alexnitz/projects/env/lib/python2.7/site-packages (from matplotlib>=1.5.1->pycbc) (1.5)\n",
      "Requirement already satisfied: pyparsing!=2.0.4,!=2.1.2,!=2.1.6,>=2.0.1 in /home/alexnitz/projects/env/lib/python2.7/site-packages (from matplotlib>=1.5.1->pycbc) (2.4.0)\n",
      "Requirement already satisfied: pyOpenSSL in /home/alexnitz/projects/env/lib/python2.7/site-packages (from lscsoft-glue>=1.59.3->pycbc) (16.2.0)\n",
      "Requirement already satisfied: urllib3<1.25,>=1.21.1 in /home/alexnitz/projects/env/lib/python2.7/site-packages (from requests>=1.2.1->pycbc) (1.24.3)\n",
      "Requirement already satisfied: idna<2.9,>=2.5 in /home/alexnitz/projects/env/lib/python2.7/site-packages (from requests>=1.2.1->pycbc) (2.8)\n",
      "Requirement already satisfied: chardet<3.1.0,>=3.0.2 in /home/alexnitz/projects/env/lib/python2.7/site-packages (from requests>=1.2.1->pycbc) (3.0.4)\n",
      "Requirement already satisfied: certifi>=2017.4.17 in /home/alexnitz/projects/env/lib/python2.7/site-packages (from requests>=1.2.1->pycbc) (2019.3.9)\n",
      "Requirement already satisfied: soupsieve>=1.2 in /home/alexnitz/projects/env/lib/python2.7/site-packages (from beautifulsoup4>=4.6.0->pycbc) (1.9.1)\n",
      "Requirement already satisfied: pytest<3.7,>=2.8 in /home/alexnitz/projects/env/lib/python2.7/site-packages (from astropy<3.0.0,>=2.0.3->pycbc) (3.6.4)\n",
      "Requirement already satisfied: setuptools in /home/alexnitz/projects/env/lib/python2.7/site-packages (from kiwisolver>=1.0.1->matplotlib>=1.5.1->pycbc) (41.0.1)\n",
      "Requirement already satisfied: cryptography>=1.3.4 in /home/alexnitz/projects/env/lib/python2.7/site-packages (from pyOpenSSL->lscsoft-glue>=1.59.3->pycbc) (2.6.1)\n",
      "Requirement already satisfied: attrs>=17.4.0 in /home/alexnitz/projects/env/lib/python2.7/site-packages (from pytest<3.7,>=2.8->astropy<3.0.0,>=2.0.3->pycbc) (19.1.0)\n",
      "Requirement already satisfied: more-itertools>=4.0.0 in /home/alexnitz/projects/env/lib/python2.7/site-packages (from pytest<3.7,>=2.8->astropy<3.0.0,>=2.0.3->pycbc) (5.0.0)\n",
      "Requirement already satisfied: py>=1.5.0 in /home/alexnitz/projects/env/lib/python2.7/site-packages (from pytest<3.7,>=2.8->astropy<3.0.0,>=2.0.3->pycbc) (1.8.0)\n",
      "Requirement already satisfied: funcsigs; python_version < \"3.0\" in /home/alexnitz/projects/env/lib/python2.7/site-packages (from pytest<3.7,>=2.8->astropy<3.0.0,>=2.0.3->pycbc) (1.0.2)\n",
      "Requirement already satisfied: pluggy<0.8,>=0.5 in /home/alexnitz/projects/env/lib/python2.7/site-packages (from pytest<3.7,>=2.8->astropy<3.0.0,>=2.0.3->pycbc) (0.7.1)\n",
      "Requirement already satisfied: atomicwrites>=1.0 in /home/alexnitz/projects/env/lib/python2.7/site-packages (from pytest<3.7,>=2.8->astropy<3.0.0,>=2.0.3->pycbc) (1.3.0)\n",
      "Requirement already satisfied: enum34; python_version < \"3\" in /home/alexnitz/projects/env/lib/python2.7/site-packages (from cryptography>=1.3.4->pyOpenSSL->lscsoft-glue>=1.59.3->pycbc) (1.1.6)\n",
      "Requirement already satisfied: asn1crypto>=0.21.0 in /home/alexnitz/projects/env/lib/python2.7/site-packages (from cryptography>=1.3.4->pyOpenSSL->lscsoft-glue>=1.59.3->pycbc) (0.24.0)\n",
      "Requirement already satisfied: cffi!=1.11.3,>=1.8 in /home/alexnitz/projects/env/lib/python2.7/site-packages (from cryptography>=1.3.4->pyOpenSSL->lscsoft-glue>=1.59.3->pycbc) (1.12.3)\n",
      "Requirement already satisfied: ipaddress; python_version < \"3\" in /home/alexnitz/projects/env/lib/python2.7/site-packages (from cryptography>=1.3.4->pyOpenSSL->lscsoft-glue>=1.59.3->pycbc) (1.0.22)\n",
      "Requirement already satisfied: pycparser in /home/alexnitz/projects/env/lib/python2.7/site-packages (from cffi!=1.11.3,>=1.8->cryptography>=1.3.4->pyOpenSSL->lscsoft-glue>=1.59.3->pycbc) (2.19)\n"
     ]
    }
   ],
   "source": [
    "\n",
    "import sys\n",
    "!{sys.executable} -m pip install pycbc lalsuite ligo-common --no-cache-dir"
   ]
  },
  {
   "cell_type": "markdown",
   "metadata": {},
   "source": [
    "## 1. One-dimensional Analytic Model ##\n",
    "\n",
    "The simplest case is a problem with a single parameter. We'll go through how to estimate this parameter using an analytic model. In this\n",
    "case, we'll use the normal distribution\n",
    "\n",
    "Create an instance of a pre-made Model. This is an analytic model (i.e. no data used)\n",
    "that we employ largely for testing the capabilities of different samplers. \n",
    "This will create a likelihood surface in one dimensions (x) with zero mean and unit variance"
   ]
  },
  {
   "cell_type": "code",
   "execution_count": 2,
   "metadata": {},
   "outputs": [
    {
     "name": "stderr",
     "output_type": "stream",
     "text": [
      "PyCBC.libutils: pkg-config call failed, setting NO_PKGCONFIG=1\n"
     ]
    }
   ],
   "source": [
    "from pycbc.inference import models\n",
    "from pycbc.distributions import Uniform\n",
    "\n",
    "my_model = models.TestNormal(('x'), mean=(0))"
   ]
  },
  {
   "cell_type": "markdown",
   "metadata": {},
   "source": [
    "We need to choose a sampler, in this case *emcee*. We need to provide the model we are\n",
    "using along with the prior and number of walkers. Emcee is an 'ensemble' sampler so\n",
    "it consists of many points which are traversing the space and help each other\n",
    "explore the likelihood surface."
   ]
  },
  {
   "cell_type": "code",
   "execution_count": 3,
   "metadata": {},
   "outputs": [],
   "source": [
    "from pycbc.inference import sampler\n",
    "\n",
    "engine = sampler.EmceeEnsembleSampler(my_model, nwalkers=1000, nprocesses=2)"
   ]
  },
  {
   "cell_type": "markdown",
   "metadata": {},
   "source": [
    "Before we start we need to decide the initial positions of the walkers\n",
    "In this case we choose that they be distributed randomly between -1 and 1. We use the 'Uniform' distribution class. It is a common feature that these classes take the parameter name along with parameters that may define the distribution itself (such as bounds and other distribution-specific shape determining variables)."
   ]
  },
  {
   "cell_type": "code",
   "execution_count": 4,
   "metadata": {},
   "outputs": [],
   "source": [
    "engine.set_initial_conditions(Uniform(x=(-1, 1)))"
   ]
  },
  {
   "cell_type": "markdown",
   "metadata": {},
   "source": [
    "Run the mcmc for 200 iterations"
   ]
  },
  {
   "cell_type": "code",
   "execution_count": 5,
   "metadata": {},
   "outputs": [],
   "source": [
    "engine.run_mcmc(200)"
   ]
  },
  {
   "cell_type": "markdown",
   "metadata": {},
   "source": [
    "We can get the entire history of where the \"walkers\" have been by looking at the samples\n",
    "attribute. For each variable parameter, we get an array with \n",
    "dimensions nwalkers x num_iterations. This is the format for the 'Emcee' sampler. Other samples may have other formats for their parameter chains. For example, parallel tempered samplers will have an additional dimension which represents the temperature. "
   ]
  },
  {
   "cell_type": "code",
   "execution_count": 6,
   "metadata": {},
   "outputs": [],
   "source": [
    "import pylab, numpy\n",
    "\n",
    "xchain = engine.samples['x']"
   ]
  },
  {
   "cell_type": "markdown",
   "metadata": {},
   "source": [
    "The chain has 2 dimensions, the first axis is the walker\n",
    "and the second is the iteration.\n",
    "We'll plot the final position of each walker"
   ]
  },
  {
   "cell_type": "code",
   "execution_count": 7,
   "metadata": {},
   "outputs": [
    {
     "data": {
      "image/png": "[encoded data removed]",
      "text/plain": [
       "<Figure size 432x288 with 1 Axes>"
      ]
     },
     "metadata": {
      "needs_background": "light"
     },
     "output_type": "display_data"
    },
    {
     "name": "stdout",
     "output_type": "stream",
     "text": [
      "-0.01128508897735313 1.0397707546927017\n"
     ]
    }
   ],
   "source": [
    "values = xchain[:,-1]  \n",
    "pylab.hist(values)\n",
    "pylab.xlabel('x')\n",
    "pylab.show()\n",
    "print values.mean(), numpy.var(values)"
   ]
  },
  {
   "cell_type": "markdown",
   "metadata": {},
   "source": [
    "###  Suggested Problem ###\n",
    "\n",
    "Try changing the mean of the analytic distribution. We've provided a random number below (no peaking!) What do you estimate for the mean of the distribution? "
   ]
  },
  {
   "cell_type": "code",
   "execution_count": 8,
   "metadata": {},
   "outputs": [],
   "source": [
    "from numpy.random import uniform, seed\n",
    "seed(0)\n",
    "a_number = uniform(-100, 100)"
   ]
  },
  {
   "cell_type": "markdown",
   "metadata": {},
   "source": [
    "## 2. Higher Dimensions ##\n",
    "\n",
    "We'll extend the previous example to higher dimensions.\n",
    "\n",
    "The normal distribution analytic model is already set up to handle\n",
    "many extra dimensions. We just need to name them."
   ]
  },
  {
   "cell_type": "code",
   "execution_count": 9,
   "metadata": {},
   "outputs": [],
   "source": [
    "from pycbc.inference import models\n",
    "from pycbc.distributions import Uniform\n",
    "\n",
    "my_model = models.TestNormal(('x', 'y'), mean=(0, 2))"
   ]
  },
  {
   "cell_type": "code",
   "execution_count": 10,
   "metadata": {},
   "outputs": [],
   "source": [
    "from pycbc.inference import sampler\n",
    "\n",
    "engine = sampler.EmceeEnsembleSampler(my_model, nwalkers=1000, nprocesses=2)"
   ]
  },
  {
   "cell_type": "markdown",
   "metadata": {},
   "source": [
    "Notice how the following differs from before. We are setting a uniform distribution\n",
    "for each parameter. This is used to set the intitial position\n",
    "of the walkers."
   ]
  },
  {
   "cell_type": "code",
   "execution_count": 11,
   "metadata": {},
   "outputs": [],
   "source": [
    "pos = Uniform(\n",
    "        x=(-1, 1),\n",
    "        y=(-1, 1),\n",
    "       )\n",
    "engine.set_initial_conditions(pos)\n",
    "\n",
    "# Run the mcmc for 200 iterations\n",
    "engine.run_mcmc(200)"
   ]
  },
  {
   "cell_type": "code",
   "execution_count": 12,
   "metadata": {},
   "outputs": [
    {
     "name": "stdout",
     "output_type": "stream",
     "text": [
      "0.04110547316260785 0.9644073345559433\n",
      "2.0157441701698096 1.0285096384276409\n"
     ]
    },
    {
     "data": {
      "image/png": "[encoded data removed]",
      "text/plain": [
       "<Figure size 432x288 with 1 Axes>"
      ]
     },
     "metadata": {
      "needs_background": "light"
     },
     "output_type": "display_data"
    }
   ],
   "source": [
    "import pylab, numpy\n",
    "\n",
    "# When we have multiple parameters, we can just access each by name as\n",
    "# samples is a dictionary.\n",
    "\n",
    "for param in ['x', 'y']:\n",
    "    values = engine.samples[param][:,-1]\n",
    "    pylab.hist(values, label=param)\n",
    "    pylab.legend()\n",
    "    print values.mean(), numpy.var(values)"
   ]
  },
  {
   "cell_type": "markdown",
   "metadata": {},
   "source": [
    "###  Suggested Problems ###\n",
    "\n",
    "1. Try changing the number of dimensions of the normal distribution and find the distribution of each. \n",
    "2. Try out one of the other analytic distributions that pycbc inference provides. For example models.TestVolcano. (Note this model uses *exactly* two parameters which you choose a name for and takes no other configuration). If you are familiar with matplotlib, you can try making a 2d plot of the results. "
   ]
  },
  {
   "cell_type": "markdown",
   "metadata": {},
   "source": [
    "## 3. Making a Simple Model ##\n",
    "\n",
    "So far we have gone through the mechanics of using an existing simple model. Let's now make our own analytic model. Each model inherits from [BaseModel](https://pycbc.org/pycbc/latest/html/pycbc.inference.models.html#module-pycbc.inference.models.base). We can make our own custom Model by inheriting from this class. We are required to define a single method (`_loglikelihood`). Other methods are provided by the base class, which we'll encounter as we go along.\n",
    "\n",
    "To start off with, we'll create a simple model with a \n",
    "single parameter. We'll use the normal distribution."
   ]
  },
  {
   "cell_type": "code",
   "execution_count": 13,
   "metadata": {},
   "outputs": [],
   "source": [
    "from pycbc.inference.models.base import BaseModel\n",
    "from scipy.stats import norm\n",
    "\n",
    "class ExampleModel(BaseModel):\n",
    "    def __init__(self, param_name, **kwargs):\n",
    "        # Initialize the base model. It needs to know what the\n",
    "        # variable parameters are, given here as (param_name).\n",
    "        super(ExampleModel, self).__init__((param_name), **kwargs)   \n",
    "        self.param = param_name\n",
    "    \n",
    "    def _loglikelihood(self):\n",
    "        # self.current_params is a dictionary of the parameters \n",
    "        # we need to evaluate the log(likelihood) for. The name\n",
    "        # of the parameters are the ones we gave to the BaseModel init\n",
    "        # method in the 'super' command above.\n",
    "        pos = self.current_params[self.param]\n",
    "        \n",
    "        #We'll use the logpdf of the normal distribution from scipy\n",
    "        return norm.logpdf(pos)\n",
    "    \n",
    "my_model = ExampleModel('x')"
   ]
  },
  {
   "cell_type": "markdown",
   "metadata": {},
   "source": [
    "We can now setup the sampler, the initial positions of our walkers, and run for 200 iterations."
   ]
  },
  {
   "cell_type": "code",
   "execution_count": 14,
   "metadata": {},
   "outputs": [],
   "source": [
    "from pycbc.inference import sampler\n",
    "\n",
    "engine = sampler.EmceeEnsembleSampler(my_model, nwalkers=1000, nprocesses=2)\n",
    "engine.set_initial_conditions(Uniform(x=(-1, 1)))\n",
    "engine.run_mcmc(200)"
   ]
  },
  {
   "cell_type": "markdown",
   "metadata": {},
   "source": [
    "Since our model is a simple version of the TestNormal analytic model we should find similar results. "
   ]
  },
  {
   "cell_type": "code",
   "execution_count": 15,
   "metadata": {},
   "outputs": [
    {
     "name": "stdout",
     "output_type": "stream",
     "text": [
      "0.02425466043974442 0.9956161274842411\n"
     ]
    },
    {
     "data": {
      "image/png": "[encoded data removed]",
      "text/plain": [
       "<Figure size 432x288 with 1 Axes>"
      ]
     },
     "metadata": {
      "needs_background": "light"
     },
     "output_type": "display_data"
    }
   ],
   "source": [
    "import pylab, numpy\n",
    "\n",
    "xchain = engine.samples['x']\n",
    "values = xchain[:,-1]  \n",
    "pylab.hist(values)\n",
    "print values.mean(), numpy.var(values)"
   ]
  },
  {
   "cell_type": "markdown",
   "metadata": {},
   "source": [
    "###  Suggested Problem ###\n",
    "\n",
    "Replace the analytic PDF in our example model with one of your choosing and see if the ensenmble mcmc can recover the distribution."
   ]
  },
  {
   "cell_type": "markdown",
   "metadata": {},
   "source": [
    "## 4. Making a model that uses data ##\n",
    "\n",
    "Let's now see how we can pass data to a model. We'll have samples which  are drawn from an unkown normal distribution and try to estimate the distribution parameters (i.e. the mean and standard deviation). This model will contain two parameters, but for simplicity we fill the parameter names in the model as seen below. "
   ]
  },
  {
   "cell_type": "code",
   "execution_count": 16,
   "metadata": {},
   "outputs": [],
   "source": [
    "from pycbc.inference.models.base import BaseModel\n",
    "from scipy.stats import norm\n",
    "import numpy\n",
    "\n",
    "class ExampleModel(BaseModel):\n",
    "    def __init__(self, data, **kwargs):\n",
    "        # We'll used fixed param names\n",
    "        params = ('sigma', 'mean')\n",
    "        \n",
    "        super(ExampleModel, self).__init__(params, **kwargs)\n",
    "        self.data = data\n",
    "    \n",
    "    def _loglikelihood(self):\n",
    "        # self.current_params is a dictionary of the parameters \n",
    "        # we need to evaluate the log(likelihood) for.\n",
    "        sigmasq = self.current_params['sigma'] ** 2.0\n",
    "        mean = self.current_params['mean']\n",
    "        n = len(self.data)\n",
    "        \n",
    "        # log likihood for a normal distribution\n",
    "        loglk = -n / 2.0 * numpy.log(2 * numpy.pi * sigmasq)\n",
    "        loglk += - 1. / (2 * sigmasq) * ((self.data - mean)**2.0).sum()\n",
    "        return loglk\n",
    "\n",
    "# Create some synthetic data\n",
    "numpy.random.seed(10)\n",
    "data = norm.rvs(size=10000)\n",
    "my_model = ExampleModel(data)"
   ]
  },
  {
   "cell_type": "markdown",
   "metadata": {},
   "source": [
    "Note that the likelihood we use above can be extended to apply to signal models where we expect\n",
    "the residual noise to be Gaussian. Simply replace 'mean' with the model prediction\n",
    "and set sigma to one if the problem is normalized. This is closely related to the\n",
    "likelihood we in fact use for gravitational-wave data analysis."
   ]
  },
  {
   "cell_type": "code",
   "execution_count": 17,
   "metadata": {},
   "outputs": [],
   "source": [
    "from pycbc.inference import sampler\n",
    "\n",
    "engine = sampler.EmceeEnsembleSampler(my_model, nwalkers=100, nprocesses=2)\n",
    "pos = Uniform(sigma=(.5, 2),\n",
    "              mean=(-1, 1)\n",
    "             )\n",
    "engine.set_initial_conditions(pos)\n",
    "engine.run_mcmc(400)"
   ]
  },
  {
   "cell_type": "markdown",
   "metadata": {},
   "source": [
    "We can now view our estimates of the 'mean' and 'sigma'. "
   ]
  },
  {
   "cell_type": "code",
   "execution_count": 18,
   "metadata": {},
   "outputs": [
    {
     "data": {
      "text/plain": [
       "Text(0.5,1,'mean')"
      ]
     },
     "execution_count": 18,
     "metadata": {},
     "output_type": "execute_result"
    },
    {
     "data": {
      "image/png": "[encoded data removed]",
      "text/plain": [
       "<Figure size 432x288 with 1 Axes>"
      ]
     },
     "metadata": {
      "needs_background": "light"
     },
     "output_type": "display_data"
    },
    {
     "data": {
      "image/png": "[encoded data removed]",
      "text/plain": [
       "<Figure size 432x288 with 1 Axes>"
      ]
     },
     "metadata": {
      "needs_background": "light"
     },
     "output_type": "display_data"
    }
   ],
   "source": [
    "import pylab, numpy\n",
    "\n",
    "xchain = engine.samples['sigma']\n",
    "values = xchain[:,-1]  \n",
    "\n",
    "pylab.figure()\n",
    "pylab.title('sigma')\n",
    "pylab.hist(engine.samples['sigma'][:,-1])\n",
    "\n",
    "pylab.figure()\n",
    "pylab.hist(engine.samples['mean'][:,-1])\n",
    "pylab.title('mean')"
   ]
  },
  {
   "cell_type": "markdown",
   "metadata": {},
   "source": [
    "## 5. Using a model with priors ##\n",
    "\n",
    "We'll extend the last example by adding priors on our parameters. Up to now, we have been using the implicit prior that was flat in our parameters. Often you have prior knowledge about what a parameter might be.\n",
    "\n",
    "The distributions package contains many pre-made pdfs which \n",
    "can be used to build a prior. In fact we've been using this \n",
    "already to set initial walker positions."
   ]
  },
  {
   "cell_type": "code",
   "execution_count": 19,
   "metadata": {},
   "outputs": [],
   "source": [
    "from pycbc.distributions import Gaussian, Uniform, JointDistribution"
   ]
  },
  {
   "cell_type": "markdown",
   "metadata": {},
   "source": [
    "We can create different priors for each parameter\n",
    "some distributions can also support multiple correlated\n",
    "parameters."
   ]
  },
  {
   "cell_type": "code",
   "execution_count": 20,
   "metadata": {},
   "outputs": [],
   "source": [
    "#Gaussian prior with central value of 1 and variance of 0.1.\n",
    "#The prior is bounded by .5 -> 2. \n",
    "prior_sigma = Gaussian(sigma=(.5, 2), sigma_mean=1, sigma_var=.1)\n",
    "\n",
    "# Uniform between -1 and 1\n",
    "prior_mean = Uniform(mean=(-1, 1))"
   ]
  },
  {
   "cell_type": "markdown",
   "metadata": {},
   "source": [
    "Independent priors can be combined into a single joint\n",
    "distribution for our entire problem"
   ]
  },
  {
   "cell_type": "code",
   "execution_count": 21,
   "metadata": {},
   "outputs": [],
   "source": [
    "prior = JointDistribution(['sigma', 'mean'],\n",
    "                          prior_sigma, prior_mean)\n",
    "\n",
    "# We'll use the same example model we used in the previous section\n",
    "numpy.random.seed(10)\n",
    "data = norm.rvs(size=10000)\n",
    "\n",
    "# Prior is a standard keyword that models which inherit from BaseModel \n",
    "# can take.\n",
    "my_model = ExampleModel(data, prior=prior)\n",
    "\n",
    "engine = sampler.EmceeEnsembleSampler(my_model, nwalkers=100, nprocesses=2)\n",
    "\n",
    "# We can also direclty pass the prior to set up the initial positions if we choose\n",
    "engine.set_initial_conditions(prior)\n",
    "engine.run_mcmc(400)"
   ]
  },
  {
   "cell_type": "code",
   "execution_count": 22,
   "metadata": {},
   "outputs": [
    {
     "data": {
      "text/plain": [
       "Text(0.5,1,'mean')"
      ]
     },
     "execution_count": 22,
     "metadata": {},
     "output_type": "execute_result"
    },
    {
     "data": {
      "image/png": "[encoded data removed]",
      "text/plain": [
       "<Figure size 432x288 with 1 Axes>"
      ]
     },
     "metadata": {
      "needs_background": "light"
     },
     "output_type": "display_data"
    },
    {
     "data": {
      "image/png": "[encoded data removed]",
      "text/plain": [
       "<Figure size 432x288 with 1 Axes>"
      ]
     },
     "metadata": {
      "needs_background": "light"
     },
     "output_type": "display_data"
    }
   ],
   "source": [
    "import pylab, numpy\n",
    "\n",
    "xchain = engine.samples['sigma']\n",
    "values = xchain[:,-1]  \n",
    "\n",
    "pylab.figure()\n",
    "pylab.title('sigma')\n",
    "pylab.hist(engine.samples['sigma'][:,-1])\n",
    "\n",
    "pylab.figure()\n",
    "pylab.hist(engine.samples['mean'][:,-1])\n",
    "pylab.title('mean')"
   ]
  },
  {
   "cell_type": "markdown",
   "metadata": {},
   "source": [
    "###  Suggested Problem ###\n",
    "\n",
    "Try changing the prior for this problem. How does it change the resulting distribution?"
   ]
  },
  {
   "cell_type": "markdown",
   "metadata": {},
   "source": [
    "## 6. Estimating the distance of GW170817 ##\n",
    "\n",
    "Now that we have some experience with models in pycbc inference, let's take a look at some of the existing models that pycbc inference provides targeted at gravitational-wave data analysis. We'll start with the `SingleTemplate` model. This model is useful when we know the intrinsic parameters of a source (i.e. component masses, spins), but we don't know the extrinsic parameters (i.e. sky location, distance, binary orientation). This will allow us to estimate the distance to GW170817 and the inclination of the orbital plan from our viewing angle. \n",
    "\n",
    "This model requires a specifc set of data products.\n",
    "  * Dictionary of frequency-domain data (keyed by observatory short name such as 'H1', 'L1', 'V1').\n",
    "  * Dictionary of power spectral density estimates\n",
    "  * Low frequency cutoff to use for internal filtering in the model\n",
    "  \n",
    "We will make use of PyCBC gw signal processing tools to prepare this data."
   ]
  },
  {
   "cell_type": "code",
   "execution_count": 23,
   "metadata": {},
   "outputs": [
    {
     "name": "stdout",
     "output_type": "stream",
     "text": [
      "Processing H1 data\n",
      "Processing V1 data\n",
      "Processing L1 data\n"
     ]
    }
   ],
   "source": [
    "from pycbc.catalog import Merger\n",
    "from pycbc.psd import interpolate, inverse_spectrum_truncation\n",
    "from pycbc.frame import read_frame\n",
    "from pycbc.filter import highpass, resample_to_delta_t\n",
    "from astropy.utils.data import download_file\n",
    "\n",
    "m = Merger(\"GW170817\")\n",
    "\n",
    "# List of observatories we'll analyze\n",
    "ifos = ['H1', \n",
    "        'V1', \n",
    "        'L1',\n",
    "       ]\n",
    "\n",
    "# The single template waveform model needs these data products\n",
    "psds = {}\n",
    "data = {}\n",
    "\n",
    "for ifo in ifos:\n",
    "    print(\"Processing {} data\".format(ifo))\n",
    "    \n",
    "    # Download the gravitational wave data for GW170817\n",
    "    url = \"https://dcc.ligo.org/public/0146/P1700349/001/{}-{}1_LOSC_CLN_4_V1-1187007040-2048.gwf\"\n",
    "    fname = download_file(url.format(ifo[0], ifo[0]), cache=True) \n",
    "\n",
    "    # Read the gravitational wave data and do some minimal\n",
    "    # conditioning of the data.\n",
    "    ts = read_frame(fname, \"{}:LOSC-STRAIN\".format(ifo),\n",
    "                    start_time=int(m.time - 260),\n",
    "                    end_time=int(m.time + 40))\n",
    "    ts = highpass(ts, 15.0)                     # Remove low frequency content\n",
    "    ts = resample_to_delta_t(ts, 1.0/2048)      # Resample data to 2048 Hz\n",
    "    ts = ts.time_slice(m.time-112, m.time + 16) # Limit to times around the signal\n",
    "    data[ifo] = ts.to_frequencyseries()         # Convert to a frequency series by taking the data's FFT\n",
    "\n",
    "    # Estimate the power spectral density of the data\n",
    "    psd = interpolate(ts.psd(4), ts.delta_f)\n",
    "    psd = inverse_spectrum_truncation(psd, int(4 * psd.sample_rate), \n",
    "                                      trunc_method='hann',\n",
    "                                      low_frequency_cutoff=20.0)\n",
    "    psds[ifo] = psd\n"
   ]
  },
  {
   "cell_type": "markdown",
   "metadata": {},
   "source": [
    "A number of parameters must also be provided as 'static' parameters. These include \n",
    "   * mass1 (Units in solar masses)\n",
    "   * mass2 (Units in solar masses)\n",
    "   * f_lower (used for where to start our gravitational waveform model generation from)\n",
    "   * approximant (This sets which waveform model we are using)\n",
    "\n",
    "If a model supports other intrinsic parameters (such as components spins), they may \n",
    "also optionally be provided.\n",
    "\n",
    "There are also a fixed set of 'variable' parameters. These are the only ones which we\n",
    "can obtain estimates of with this model. These are\n",
    "   * ra        (Units in radians)\n",
    "   * dec       (Units in radians)\n",
    "   * distance  (Units in Megaparsecs)\n",
    "   * inclination (Units in radians)\n",
    "   * polarization (Units in radians)\n",
    "   * tc           (Units in seconds): This parameter is roughly the time of merger.\n",
    "   \n",
    "It's important to note that anything which could be a variable paramater, can be transformed\n",
    "into a static parameter by supplying a specific value for it. We take advantage of this below\n",
    "to limit our analyis to only sample over 'distance', 'inclination', and 'tc'. We set the sky location\n",
    "to the location of NGC 4993, the galaxy where an electromagnetic counterpart to GW170817 was observed."
   ]
  },
  {
   "cell_type": "code",
   "execution_count": 24,
   "metadata": {},
   "outputs": [],
   "source": [
    "from pycbc.inference import models, sampler\n",
    "from pycbc.distributions import Uniform, JointDistribution, SinAngle\n",
    "import numpy\n",
    "\n",
    "static = {'mass1':1.3757,\n",
    "          'mass2':1.3757,\n",
    "          'f_lower':25.0,\n",
    "          'approximant':\"TaylorF2\",\n",
    "          'polarization':0,\n",
    "          'ra': 3.44615914,\n",
    "          'dec': -0.40808407\n",
    "         }\n",
    "\n",
    "variable = ('distance',\n",
    "            'inclination',\n",
    "            'tc')\n",
    "\n",
    "prior = JointDistribution(variable,\n",
    "                SinAngle(inclination=None), \n",
    "                Uniform(\n",
    "                    distance=(10, 100),\n",
    "                    tc=(m.time-.2, m.time+0.2),\n",
    "                )\n",
    "        )"
   ]
  },
  {
   "cell_type": "markdown",
   "metadata": {},
   "source": [
    "We are not ready to create our SingleTemplate model instance. Note how the variable and static parameters\n",
    "are passed to the model. This is a common way this information can be passed for built-in pycbc inference models.\n",
    "\n",
    "Notice that we are no longer using the Emcee sampler. While Emcee is sufficient for many problems, EmceePT, a parallel tempered version of Emcee is more effective at most gravitational-wave data analysis problems. There is one additional parameter we need to give to EmcceePT which is the number of temperatures. The output of this sampler will thus be 3-dimensional (temps x walkers x iterations). The 'coldest' temperature (0) will contain our actual results. "
   ]
  },
  {
   "cell_type": "code",
   "execution_count": 25,
   "metadata": {},
   "outputs": [],
   "source": [
    "import copy\n",
    "model = models.SingleTemplate(copy.deepcopy(data), psds,\n",
    "                              low_frequency_cutoff=25.0,\n",
    "                              variable_params = variable,\n",
    "                              static_params = static,\n",
    "                              prior = prior,\n",
    "                              sample_rate = 8192,\n",
    "                              )\n",
    "smpl = sampler.EmceePTSampler(model, 3, 200, nprocesses=2)\n",
    "smpl.set_initial_conditions(prior)"
   ]
  },
  {
   "cell_type": "code",
   "execution_count": 26,
   "metadata": {},
   "outputs": [],
   "source": [
    "# Note it may take ~1-3 minutes for this to run\n",
    "smpl.run_mcmc(200)"
   ]
  },
  {
   "cell_type": "markdown",
   "metadata": {},
   "source": [
    "In addition to the sampled parameters, we can also get the likelihood values our model produces. We don't go into it here, but it is also possible for models to make arbitary auxiliary information about each sample available."
   ]
  },
  {
   "cell_type": "code",
   "execution_count": 27,
   "metadata": {},
   "outputs": [
    {
     "data": {
      "image/png": "[encoded data removed]",
      "text/plain": [
       "<Figure size 432x288 with 2 Axes>"
      ]
     },
     "metadata": {
      "needs_background": "light"
     },
     "output_type": "display_data"
    }
   ],
   "source": [
    "lik = smpl.model_stats['loglikelihood']\n",
    "s = smpl.samples\n",
    "\n",
    "# Note how we have to access the arrays differently that before since there is an additional dimension. \n",
    "# The zeroth element of that dimension represents the 'coldest' and is the one we want for our results.\n",
    "# The other temperatures represent a modified form of the likelihood that allows walkers to traverse\n",
    "# the space more freely.\n",
    "pylab.scatter(s['distance'][0,:,-1],\n",
    "              s['inclination'][0,:,-1],\n",
    "              c=lik[0,:,-1])\n",
    "pylab.xlabel('Distance (Mpc)')\n",
    "pylab.ylabel('Inclination (Radians)')\n",
    "\n",
    "c = pylab.colorbar()\n",
    "c.set_label('Loglikelihood')\n",
    "pylab.show()"
   ]
  },
  {
   "cell_type": "code",
   "execution_count": 28,
   "metadata": {},
   "outputs": [
    {
     "data": {
      "image/png": "[encoded data removed]",
      "text/plain": [
       "<Figure size 432x288 with 1 Axes>"
      ]
     },
     "metadata": {
      "needs_background": "light"
     },
     "output_type": "display_data"
    }
   ],
   "source": [
    "_ = pylab.hist(s['distance'][0,:,-100::20].flatten(), bins=30)"
   ]
  },
  {
   "cell_type": "markdown",
   "metadata": {},
   "source": [
    "#### 6.1 Watch how the position of the walkers evolves in time ###\n",
    "\n",
    "We can see how our ensemble of walkers evolves with time using the animation utilities of matplotlib. We haven't covered the concept of \"burn-in\" in this tutorial, however, if you watch the animation, you can see the point\n",
    "that the distribution is effectively burned-in."
   ]
  },
  {
   "cell_type": "code",
   "execution_count": 29,
   "metadata": {},
   "outputs": [
    {
     "data": {
      "image/png": "[encoded data removed]",
      "text/plain": [
       "<Figure size 432x288 with 2 Axes>"
      ]
     },
     "metadata": {
      "needs_background": "light"
     },
     "output_type": "display_data"
    }
   ],
   "source": [
    "%matplotlib inline\n",
    "from matplotlib import animation\n",
    "import pylab\n",
    "\n",
    "# We'll plot the initial position of the walkers\n",
    "fig = pylab.figure(10)\n",
    "a = pylab.scatter(s['distance'][0,:,0],\n",
    "                  s['inclination'][0,:,0],\n",
    "                  c=lik[0,:,0], vmin=530, vmax=545)\n",
    "pylab.xlabel('Distance (Megaparsecs)')\n",
    "pylab.ylabel('Inclination (radians)')\n",
    "c = pylab.colorbar()\n",
    "c.set_label('Loglikelihood')\n",
    "\n",
    "# This function will update the plot with the ith iteration of our mcmc chain.\n",
    "def animate(i):\n",
    "    dat = numpy.array([s['distance'][0,:,i], s['inclination'][0,:,i]])\n",
    "    a.set_offsets(dat.T)\n",
    "    a.set_array(lik[0,:,i])\n",
    "    return (a, )\n",
    "    \n",
    "nsamples = len(s['distance'][0,0,:])\n",
    "ani = animation.FuncAnimation(fig, animate, frames=nsamples,\n",
    "                              interval=200, blit=True)"
   ]
  },
  {
   "cell_type": "code",
   "execution_count": 30,
   "metadata": {},
   "outputs": [
    {
     "data": {
      "text/html": [
       "<img src=\"move.gif\">"
      ],
      "text/plain": [
       "<IPython.core.display.HTML object>"
      ]
     },
     "execution_count": 30,
     "metadata": {},
     "output_type": "execute_result"
    }
   ],
   "source": [
    "from matplotlib.animation import PillowWriter\n",
    "from IPython.display import HTML\n",
    "\n",
    "# Note to get this to play, you may need to right click on the image and\n",
    "# download to your computer or open the image in a new tab of your browser\n",
    "ani.save('move.gif', writer=PillowWriter(fps=5))\n",
    "HTML('<img src=\"move.gif\">')"
   ]
  },
  {
   "cell_type": "markdown",
   "metadata": {},
   "source": [
    "#  Suggested Problems ###\n",
    "\n",
    "1. If we exclude Virgo and Livingston how is the recovery of distance and inclination affected? How about if we just exclude Virgo? Hint: you can do this by modifying the 'ifos' list of the first cell in this section. \n",
    "2. GW170817 was identified with a counterpart in NGC4993. If we use the distance to NG4993 as a prior (41 +-3 Mpc) can we improve our estimate of the source binary inclination? Try setting a Gaussian prior based on this additional information.\n",
    "3. How well measured is the time of coalesence ('tc') ?\n",
    "3. (For the curious) Try the EmceeSampler like we've used in previous examples. How do the results compare after the same number of iterations? Note, remember that the Emcee and EmceePT samplers don't have the same format sample chains. Ecmee uses a walker x iteration chain, while EmceePT will have a temp x walker x iteration format.\n"
   ]
  },
  {
   "cell_type": "markdown",
   "metadata": {},
   "source": [
    "## 7. Estimating the sky location of GW170817 ##\n",
    "\n",
    "We will now extend the previous example and also estimate the sky location of the source from the\n",
    "gravitational-wave data alone"
   ]
  },
  {
   "cell_type": "code",
   "execution_count": 31,
   "metadata": {},
   "outputs": [],
   "source": [
    "from pycbc.inference import models, sampler\n",
    "from pycbc.distributions import Uniform, JointDistribution, SinAngle, UniformSky\n",
    "import numpy\n",
    "\n",
    "static = {'mass1':1.3757,\n",
    "          'mass2':1.3757,\n",
    "          'f_lower':25.0,\n",
    "          'approximant':\"TaylorF2\",\n",
    "          'polarization':0,\n",
    "         }\n",
    "\n",
    "variable = ('distance',\n",
    "            'inclination',\n",
    "            'tc',\n",
    "            'ra',\n",
    "            'dec',\n",
    "            )\n",
    "prior = JointDistribution(variable, \n",
    "                Uniform(\n",
    "                    inclination=(2, numpy.pi),\n",
    "                    distance=(20, 50),\n",
    "                    tc=(m.time+.02, m.time+0.05),\n",
    "                ),\n",
    "                UniformSky(),   # This is a custom distribution which\n",
    "                                # expects ra / dec and creates a isotropic distribution\n",
    "        )"
   ]
  },
  {
   "cell_type": "code",
   "execution_count": 32,
   "metadata": {},
   "outputs": [],
   "source": [
    "import copy\n",
    "model = models.SingleTemplate(copy.deepcopy(data), psds,\n",
    "                              low_frequency_cutoff=25.0,\n",
    "                              variable_params = variable,\n",
    "                              static_params = static,\n",
    "                              prior = prior,\n",
    "                              sample_rate = 8192,\n",
    "                              )\n",
    "smpl = sampler.EmceePTSampler(model, 3, 200, nprocesses=2)\n",
    "smpl.set_initial_conditions(prior)"
   ]
  },
  {
   "cell_type": "code",
   "execution_count": 33,
   "metadata": {},
   "outputs": [],
   "source": [
    "# Note it may take a few minutes for this to run\n",
    "smpl.run_mcmc(200)"
   ]
  },
  {
   "cell_type": "markdown",
   "metadata": {},
   "source": [
    "In addition to the sampled parameters, we can also get the likelihood values our model produces. We don't go into it here, but it is also possible for models to make arbitary auxiliary information about each sample available."
   ]
  },
  {
   "cell_type": "code",
   "execution_count": 34,
   "metadata": {},
   "outputs": [
    {
     "data": {
      "image/png": "[encoded data removed]",
      "text/plain": [
       "<Figure size 432x288 with 2 Axes>"
      ]
     },
     "metadata": {
      "needs_background": "light"
     },
     "output_type": "display_data"
    }
   ],
   "source": [
    "lik = smpl.model_stats['loglikelihood']\n",
    "s = smpl.samples\n",
    "\n",
    "# Note how we have to access the arrays differently that before since there is an additional dimension. \n",
    "# The zeroth element of that dimension represents the 'coldest' and is the one we want for our results.\n",
    "# The other temperatures represent a modified form of the likelihood that allows walkers to traverse\n",
    "# the space more freely.\n",
    "pylab.scatter(s['ra'][0,:,-1],\n",
    "              s['dec'][0,:,-1],\n",
    "              c=lik[0,:,-1])\n",
    "pylab.xlabel('Right Ascension')\n",
    "pylab.ylabel('Declination')\n",
    "\n",
    "c = pylab.colorbar()\n",
    "c.set_label('Loglikelihood')\n",
    "pylab.show()"
   ]
  },
  {
   "cell_type": "markdown",
   "metadata": {},
   "source": [
    "#### 7.1 Watch how the position of the walkers evolves in time ###"
   ]
  },
  {
   "cell_type": "code",
   "execution_count": 35,
   "metadata": {
    "scrolled": true
   },
   "outputs": [
    {
     "data": {
      "image/png": "[encoded data removed]",
      "text/plain": [
       "<Figure size 432x288 with 2 Axes>"
      ]
     },
     "metadata": {
      "needs_background": "light"
     },
     "output_type": "display_data"
    }
   ],
   "source": [
    "%matplotlib inline\n",
    "from matplotlib import animation\n",
    "from matplotlib.animation import PillowWriter\n",
    "from IPython.display import HTML\n",
    "import pylab\n",
    "\n",
    "# We'll plot the initial position of the walkers\n",
    "fig = pylab.figure(11)\n",
    "a = pylab.scatter(s['ra'][0,:,0],\n",
    "                  s['dec'][0,:,0],\n",
    "                  c=lik[0,:,0], vmin=530, vmax=545)\n",
    "pylab.xlabel('Right Ascension')\n",
    "pylab.ylabel('Declination')\n",
    "c = pylab.colorbar()\n",
    "c.set_label('Loglikelihood')\n",
    "\n",
    "# This function will update the plot with the ith iteration of our mcmc chain.\n",
    "def animate(i):\n",
    "    dat = numpy.array([s['ra'][0,:,i], s['dec'][0,:,i]])\n",
    "    a.set_offsets(dat.T)\n",
    "    a.set_array(lik[0,:,i])\n",
    "    return (a, )\n",
    "    \n",
    "nsamples = len(s['ra'][0,0,:])\n",
    "ani = animation.FuncAnimation(fig, animate, frames=nsamples,\n",
    "                              interval=200, blit=True)"
   ]
  },
  {
   "cell_type": "code",
   "execution_count": 36,
   "metadata": {},
   "outputs": [
    {
     "data": {
      "text/html": [
       "<img src=\"move2.gif\">"
      ],
      "text/plain": [
       "<IPython.core.display.HTML object>"
      ]
     },
     "execution_count": 36,
     "metadata": {},
     "output_type": "execute_result"
    }
   ],
   "source": [
    "ani.save('move2.gif', writer=PillowWriter(fps=5))\n",
    "HTML('<img src=\"move2.gif\">')"
   ]
  },
  {
   "cell_type": "markdown",
   "metadata": {},
   "source": [
    "#  Suggested Problems ###\n",
    "\n",
    "1. Does our measured sky position agree with the location of the NGC 4993 galaxy? (note that the location is in a previous example). \n",
    "2. How is the sky location affected if we remove Virgo? "
   ]
  },
  {
   "cell_type": "markdown",
   "metadata": {},
   "source": [
    "## 8. Estimating the chirp mass of GW170817 ##\n",
    "\n",
    "We'll now trying using a model which we commonly use to estimate the parameters of binary mergers, `MarginalizedPhaseGaussianNoise`. Unlike `SingleTemplate`, this model generates a new gravitational waveform for each set of parameters it tests. We'll use this to get a rough estimate of the chirp mass of GW170817. To help\n",
    "speed this up to run in a notebook, we'll limit to two paramters, the time of arrival (tc),  chirp mass, and mass\n",
    "ration (q). All other parameters we'll fix. We'll also place strict limits on mass ratio so it is essentially forced to be an equal mass system."
   ]
  },
  {
   "cell_type": "code",
   "execution_count": 37,
   "metadata": {},
   "outputs": [],
   "source": [
    "from pycbc.inference import models, sampler\n",
    "from pycbc.distributions import Uniform, JointDistribution\n",
    "import numpy\n",
    "\n",
    "static = {'f_lower':25.0,\n",
    "          'approximant':\"TaylorF2\",\n",
    "          'polarization':0,\n",
    "          'inclination':2.4,\n",
    "          'ra': 3.44615914,\n",
    "          'dec': -0.40808407,\n",
    "          'distance':40,\n",
    "          'f_final':500,\n",
    "         }\n",
    "\n",
    "variable = ('mchirp',\n",
    "            'q',\n",
    "            'tc',\n",
    "            )\n",
    "prior = JointDistribution(variable, \n",
    "                Uniform(\n",
    "                    mchirp=(1.197, 1.198),\n",
    "                    q=(1, 1.0001),\n",
    "                    tc=(m.time+.02, m.time+0.05),\n",
    "                ),\n",
    "        )"
   ]
  },
  {
   "cell_type": "markdown",
   "metadata": {},
   "source": [
    "The model here takes similar arguments to the SingleTemplate model. Note that we are providing a new argument, 'waveform_transforms'. Normally a merger signal is parameterized by its component masses, mass1 / mass2. We are going\n",
    "to estimate the chirp mass and try to sample in chirp mass and mass ratio. We can do this by providing the\n",
    "mapping between mchirp/q -> mass1/mass2. In this way we can use different parametizations than a model normally\n",
    "supports. "
   ]
  },
  {
   "cell_type": "code",
   "execution_count": 38,
   "metadata": {},
   "outputs": [],
   "source": [
    "import copy\n",
    "from pycbc.transforms import MchirpQToMass1Mass2\n",
    "\n",
    "model = models.MarginalizedPhaseGaussianNoise(variable, data,\n",
    "                                              low_frequency_cutoff = {'H1':25, 'L1':25, 'V1':25},\n",
    "                                              high_frequency_cutoff = {'H1':500, 'L1':500, 'V1':500},\n",
    "                                              psds = psds,\n",
    "                                              static_params = static,\n",
    "                                              prior = prior,\n",
    "                                              waveform_transforms = [MchirpQToMass1Mass2()]\n",
    "                                             )\n",
    "smpl = sampler.EmceePTSampler(model, 2, 50, nprocesses=2)\n",
    "smpl.set_initial_conditions(prior)"
   ]
  },
  {
   "cell_type": "markdown",
   "metadata": {},
   "source": [
    "Note it may take a few minutes for this to run. If we were to run this all parameters enabled, this run would\n",
    "normally take O(day) on a few dozen cores. That's where parallelization can really help! Thankfully, for\n",
    "production runs pycbc inference supports single node multiprocessing and MPI. "
   ]
  },
  {
   "cell_type": "code",
   "execution_count": 39,
   "metadata": {},
   "outputs": [],
   "source": [
    "smpl.run_mcmc(50)"
   ]
  },
  {
   "cell_type": "markdown",
   "metadata": {},
   "source": [
    "#### 8.1 Walker Evolution"
   ]
  },
  {
   "cell_type": "code",
   "execution_count": 40,
   "metadata": {},
   "outputs": [
    {
     "name": "stdout",
     "output_type": "stream",
     "text": [
      "(2, 50, 50)\n",
      "50\n"
     ]
    },
    {
     "data": {
      "image/png": "[encoded data removed]",
      "text/plain": [
       "<Figure size 432x288 with 1 Axes>"
      ]
     },
     "metadata": {
      "needs_background": "light"
     },
     "output_type": "display_data"
    }
   ],
   "source": [
    "%matplotlib inline\n",
    "from matplotlib import animation\n",
    "from matplotlib.animation import PillowWriter\n",
    "from IPython.display import HTML\n",
    "import pylab\n",
    "\n",
    "# We'll plot the initial position of the walkers\n",
    "fig = pylab.figure(11)\n",
    "\n",
    "s = smpl.samples\n",
    "a = pylab.scatter(s['mchirp'][0,:,0],\n",
    "                  s['tc'][0,:,0],\n",
    "                 )\n",
    "pylab.xlabel('Chirp Mass')\n",
    "pylab.ylabel('Coalescence Time')\n",
    "pylab.xlim(1.197, 1.198)\n",
    "c.set_label('Loglikelihood')\n",
    "\n",
    "# This function will update the plot with the ith iteration of our mcmc chain.\n",
    "def animate(i):\n",
    "    dat = numpy.array([s['mchirp'][0,:,i], s['tc'][0,:,i]])\n",
    "    a.set_offsets(dat.T)\n",
    "    return (a, )\n",
    "\n",
    "\n",
    "nsamples = len(s['tc'][0,0,:])\n",
    "print s['tc'].shape\n",
    "print nsamples\n",
    "ani = animation.FuncAnimation(fig, animate, frames=nsamples,\n",
    "                              interval=200, blit=True)"
   ]
  },
  {
   "cell_type": "code",
   "execution_count": 41,
   "metadata": {},
   "outputs": [
    {
     "data": {
      "text/html": [
       "<img src=\"move3.gif\">"
      ],
      "text/plain": [
       "<IPython.core.display.HTML object>"
      ]
     },
     "execution_count": 41,
     "metadata": {},
     "output_type": "execute_result"
    }
   ],
   "source": [
    "ani.save('move3.gif', writer=PillowWriter(fps=5))\n",
    "HTML('<img src=\"move3.gif\">')"
   ]
  }
 ],
 "metadata": {
  "kernelspec": {
   "display_name": "Python 2",
   "language": "python",
   "name": "python2"
  },
  "language_info": {
   "codemirror_mode": {
    "name": "ipython",
    "version": 2
   },
   "file_extension": ".py",
   "mimetype": "text/x-python",
   "name": "python",
   "nbconvert_exporter": "python",
   "pygments_lexer": "ipython2",
   "version": "2.7.13"
  }
 },
 "nbformat": 4,
 "nbformat_minor": 2
}
